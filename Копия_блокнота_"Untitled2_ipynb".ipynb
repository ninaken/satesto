{
  "nbformat": 4,
  "nbformat_minor": 0,
  "metadata": {
    "colab": {
      "provenance": [],
      "authorship_tag": "ABX9TyM+LtDAwRnhziYA5KgA3UJW",
      "include_colab_link": true
    },
    "kernelspec": {
      "name": "python3",
      "display_name": "Python 3"
    },
    "language_info": {
      "name": "python"
    }
  },
  "cells": [
    {
      "cell_type": "markdown",
      "metadata": {
        "id": "view-in-github",
        "colab_type": "text"
      },
      "source": [
        "<a href=\"https://colab.research.google.com/github/ninaken/satesto/blob/main/%D0%9A%D0%BE%D0%BF%D0%B8%D1%8F_%D0%B1%D0%BB%D0%BE%D0%BA%D0%BD%D0%BE%D1%82%D0%B0_%22Untitled2_ipynb%22.ipynb\" target=\"_parent\"><img src=\"https://colab.research.google.com/assets/colab-badge.svg\" alt=\"Open In Colab\"/></a>"
      ]
    },
    {
      "cell_type": "code",
      "execution_count": null,
      "metadata": {
        "id": "ZQb7bGu9gGWn"
      },
      "outputs": [],
      "source": []
    },
    {
      "cell_type": "code",
      "source": [
        "from typing import Dict\n",
        "from itertools import count\n",
        "import pandas as pd\n",
        "import matplotlib.pyplot as plt\n",
        "import sklearn.decomposition as PCA\n",
        "import seaborn as sns\n",
        "import numpy as np\n",
        "from  sklearn.model_selection import train_test_split\n",
        "from sklearn.linear_model import LinearRegression\n",
        "model=LinearRegression()\n",
        "\n",
        "from sklearn.preprocessing import MinMaxScaler,StandardScaler,Normalizer,normalize,PowerTransformer\n",
        "scaler =MinMaxScaler()\n",
        "\n",
        "\n",
        "\n",
        "##სანამ მონაცემებსავანტრეინგებს, გავიგებ კორელეანტობას, მანამდე  უნდა დვამუშავო შტატები\n",
        "\n",
        "arrest=pd.read_csv(\"https://raw.githubusercontent.com/selva86/datasets/refs/heads/master/USArrests.csv\")\n",
        "arrest.info() ##aq vigebt null ები არის თუ არა\n",
        "arrest.head()\n",
        "\n",
        "arrest['State'].count()\n",
        "\n",
        "\n",
        "# result = dict((j, i) for i, j in enumerate(arrest['State']))\n",
        "result = {}\n",
        "for i , j  in  enumerate(arrest['State'],1):\n",
        "  result[j] = i\n",
        "\n",
        "# print(result)\n",
        "arrest['State'] = arrest['State'].replace(result)\n",
        "Y=arrest['UrbanPop'].values\n",
        "X=arrest.drop('UrbanPop', axis=1)\n",
        "\n",
        "##პცამდე  პცის შემდგომაც გავტესტავ ამ ცვლადებს\n",
        "X_train, X_test, Y_train, Y_test=train_test_split(X,Y,test_size=0.25,random_state=1)\n",
        "print(model.fit(X_train,Y_train))\n",
        "print(model.score(X_test,Y_test)) ##მოდელი ცუდად მუშაობს  0.11455114430861912  0.25 0.58  0.18957512402002685 სატესტოდ რაც უფრო ნაკლებს ვიღებთ მით უფრო უარეს მუშაობს\n",
        "y_pred = model.predict(X_test)  ##ამ ლოგიკით იზრდება ზოგ შტატშზე ოგან არა  (შტატზე არ არის არც ერთი ცვლადი დამოკიდებული)\n",
        "print(y_pred)\n",
        "print(model.intercept_)\n",
        "\n",
        "# arrest.drop('UrbanPop', axis=1, inplace=True)\n",
        "\n",
        "\n",
        "\n",
        "plt.figure(figsize=(5,5))\n",
        "sns.heatmap(arrest.corr(),annot=True)\n",
        "sns.pairplot(arrest) ##stateზე ფამოკიდებული არის, დანარენი ერთამენტთან თითქმის კორელავანტურია ანუ არ გამოდგება  თუმცა pcaთი კორელაციას მოვსვპობ\n",
        "\n",
        "\n",
        "\n",
        "##ამ მონაცმებით მე მაინტერესებს urbanpop მოხდეის ალბათობა შესაბიმსად დანაეღცენი ცვლადები არის x\n",
        "##მინდა ამ იქსებს შორს გავიგო მულტიკოვალეანტობა რამდენია   ამისთვის გამოვიყენთ pcaს\n",
        "\n",
        "\n",
        "X_train =scaler.fit_transform(X_train)\n",
        "X_test =scaler.transform(X_test)\n",
        "\n",
        "\n",
        "\n",
        "transformer =PowerTransformer()\n",
        "X_train =transformer.fit_transform(X_train)\n",
        "X_test =transformer.transform(X_test)\n",
        "\n",
        "from sklearn.decomposition import PCA\n",
        "mypca =PCA(n_components=4)\n",
        "X_train =mypca .fit_transform(X_train)\n",
        "X_test =mypca .transform(X_test)\n",
        "\n",
        "from sklearn.linear_model import Ridge, Lasso,ElasticNet,LinearRegression\n",
        "from sklearn.svm  import SVR\n",
        "model =LinearRegression()\n",
        "model.fit(X_train,Y_train)\n",
        "model.score(X_test,Y_test)\n",
        "\n",
        "import numpy as np\n",
        "print(np.sum(mypca.explained_variance_ratio_))\n",
        "\n",
        "\n",
        "print(model.fit(X_train,Y_train))  ##მოდელი უარეს მუშაობს\n",
        "print(model.score(X_test,Y_test)) ##მოდელი უარეს მუშაობს\n",
        "y_pred = model.predict(X_test)  ##ამ ლოგიკით იზრდება ზოგ შტატშზე ოგან არა  (შტატზე არ არის არც ერთი ცვლადი დამოკიდებული)\n",
        "print(y_pred)\n",
        "print(model.intercept_)\n",
        "\n",
        "for Model in [LinearRegression, Ridge, Lasso, ElasticNet, SVR]:\n",
        "    model = Model()\n",
        "    model.fit(X_train, Y_train)\n",
        "    score = model.score(X_test, Y_test)\n",
        "    print(f\"{Model.__name__}: R² = {score:.3f}\")"
      ],
      "metadata": {
        "colab": {
          "base_uri": "https://localhost:8080/"
        },
        "id": "wQPCAEcToTgK",
        "outputId": "1ba3621e-aa9b-42ea-bbb4-0801ad258a15"
      },
      "execution_count": null,
      "outputs": [
        {
          "output_type": "stream",
          "name": "stdout",
          "text": [
            "LinearRegression()\n",
            "0.11455114430861912\n",
            "[78.77076869 63.23949124 58.16793199 59.97601935 78.21545755 66.03112617\n",
            " 55.78637847 62.77559648 67.90363986 67.64773557 63.50655615 62.68746108\n",
            " 73.16795694]\n",
            "54.68383753315723\n",
            "1.0000000000000002\n",
            "LinearRegression()\n",
            "0.09328821533003728\n",
            "[78.56304532 64.39869609 57.55352568 54.96240855 78.26497346 65.72953428\n",
            " 54.79888674 63.00306793 72.21811245 67.966994   58.81357863 62.27318546\n",
            " 73.89374843]\n",
            "64.45945945945945\n",
            "LinearRegression: R² = 0.093\n",
            "Ridge: R² = 0.083\n",
            "Lasso: R² = 0.044\n",
            "ElasticNet: R² = -0.002\n",
            "SVR: R² = -0.006\n"
          ]
        },
        {
          "output_type": "stream",
          "name": "stderr",
          "text": [
            "<ipython-input-94-e83da0924474>:32: FutureWarning: Downcasting behavior in `replace` is deprecated and will be removed in a future version. To retain the old behavior, explicitly call `result.infer_objects(copy=False)`. To opt-in to the future behavior, set `pd.set_option('future.no_silent_downcasting', True)`\n",
            "  arrest['State'] = arrest['State'].replace(result)\n"
          ]
        }
      ]
    },
    {
      "cell_type": "code",
      "source": [],
      "metadata": {
        "id": "2rEPk5oNp93p"
      },
      "execution_count": null,
      "outputs": []
    }
  ]
}